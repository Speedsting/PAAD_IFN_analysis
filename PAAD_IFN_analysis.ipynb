{
 "cells": [
  {
   "cell_type": "markdown",
   "id": "10f5c0ef",
   "metadata": {},
   "source": [
    "# Interferon Signature Analysis in Pancreatic Adenocarcinoma\n",
    "\n",
    "This analysis investigates the interferon gene signature in pancreatic cancer using gene expression data from the `PAAD.gct` file. We investigate IFN activity using GSVA and explore tumor subtypes via PCA.\n",
    "\n",
    "### Dataset:\n",
    "- `PAAD.gct`: Gene expression data (~20,000 genes & 185 samples)\n",
    "- `type1_IFN.txt`: 25 gene IFN signature"
   ]
  },
  {
   "cell_type": "code",
   "execution_count": null,
   "id": "5abd0bab",
   "metadata": {},
   "outputs": [],
   "source": [
    "import matplotlib.pyplot as plt\n",
    "import seaborn as sns\n",
    "from cmapPy.pandasGEXpress import parse\n",
    "from sklearn.decomposition import PCA\n",
    "from sklearn.decomposition import StandardScaler\n",
    "from gseapy import gsva\n",
    "\n",
    "gct_data = parse.parse(\"PAAD.gct\")\n",
    "expression_data = gct_data.data_df\n",
    "metadata = gct_data.col_metadata_df\n",
    "cleaned_data = expression_data.dropna()"
   ]
  },
  {
   "cell_type": "code",
   "execution_count": null,
   "id": "a9c747d7",
   "metadata": {},
   "outputs": [],
   "source": [
    "plt.figure(figsize=(14, 6))\n",
    "sns.boxplot(data=cleaned_data.T, palette=\"coolwarm\")\n",
    "plt.xticks([], [])\n",
    "plt.ylabel(\"Gene Expression\")\n",
    "plt.title(\"Boxplot of Gene Expression for All Samples\")\n",
    "plt.tight_layout()\n",
    "plt.show()"
   ]
  },
  {
   "cell_type": "code",
   "execution_count": null,
   "id": "c7ef54c5",
   "metadata": {},
   "outputs": [],
   "source": [
    "X = StandardScaler().fit_transform(cleaned_data.T)\n",
    "pca = PCA(n_components=2)\n",
    "X_pca = pca.fit_transform(X)\n",
    "metadata = gct_data.col_metadata_df\n",
    "histology = metadata[\"histological_type_other\"].values"
   ]
  },
  {
   "cell_type": "code",
   "execution_count": null,
   "id": "e195d295",
   "metadata": {},
   "outputs": [],
   "source": [
    "plt.figure(figsize=(10, 6))\n",
    "sns.scatterplot(x=X_pca[:, 0], y=X_pca[:, 1], hue=histology, palette=\"Set2\")\n",
    "plt.title(\"PCA of Samples (covered by Histology)\")\n",
    "plt.xlabel(\"PCA1\")\n",
    "plt.ylabel(\"PCA2\")\n",
    "plt.legend(bbox_to_anchor=(1.05, 1), loc=\"upper left\")\n",
    "plt.tight_layout()\n",
    "plt.show()"
   ]
  },
  {
   "cell_type": "code",
   "execution_count": null,
   "id": "1f09bc45",
   "metadata": {},
   "outputs": [],
   "source": [
    "exocrine_samples = metadata[metadata[\"histological_type_other\"] != \"Neuroendocrine\"].index\n",
    "exocrine_expression = cleaned_data[exocrine_samples]\n",
    "\n",
    "with open(\"type1_IFN.txt\", \"r\") as f:\n",
    "    ifn_genes = [line.strip() for line in f]\n",
    "\n",
    "expression_gsva = exocrine_expression.copy()\n",
    "expression_gsva = expression_gsva.loc[expression_gsva.index.intersection(ifn_genes)]\n",
    "exocrine_expression.index = exocrine_expression.index.str.upper()\n",
    "ifn_genes = [g.strip().upper() for g in ifn_genes]\n",
    "matching_genes = [g for g in ifn_genes if g in exocrine_expression.index]\n",
    "\n",
    "with open(\"ifn_signature.gmt\", \"w\") as f:\n",
    "    f.write(\"IFN_Signature\\tNA\\t\" + \"\\t\".join(matching_genes) + \"\\n\")\n",
    "\n",
    "filtered_expression = exocrine_expression.loc[matching_genes.astype(float)]\n",
    "gsva_results = gsva(data=exocrine_expression, gene_sets=\"ifn_signature.gmt\", method=\"gsva\", outdir=None, verbose=True, min_size=5)\n",
    "gsva_results_df = gsva_results.res2d"
   ]
  },
  {
   "cell_type": "code",
   "execution_count": null,
   "id": "a0ccaf82",
   "metadata": {},
   "outputs": [],
   "source": [
    "plt.figure(figsize=(8, 5))\n",
    "sns.histplot(gsva_results_df, kde=True, bins=30)\n",
    "plt.title(\"Distribution of IFN Signature GSVA Scores\")\n",
    "plt.xlabel(\"GSVA Score\")\n",
    "plt.ylabel(\"Sample Count\")\n",
    "plt.tight_layout()\n",
    "plt.show()"
   ]
  },
  {
   "cell_type": "markdown",
   "id": "17e7d788",
   "metadata": {},
   "source": [
    "## Summary\n",
    "\n",
    "- There were approximately 4,367 genes in the dataset that were NaN values.\n",
    "- The data with NaNs removed shows a high density of expression values around a central range, and a large number of outliers across all samples.\n",
    "- The PCA plot displays variation in sample gene expression, while samples with similar expression patterns cluster together.\n",
    "- Neuroendocrine tumors show partial clustering separate from the main cluster.\n",
    "- PCA1 and PCA2 represent a substantial portion of the total variance, but not a majority of it.\n",
    "- GSVA characterizes the presence of IFN signature in PAAD by assigning a score to each sample which denotes the positive/negative presence of IFN genes in the sample.\n",
    "- The distribution of scores among the different samples range from -0.8 to 0.8, with most samples being distributed relatively evenly (except for a few clusters).\n",
    "- Samples with high GSVA scores represent a high IFN subtype while low GSVA scores represent a low IFN subtype."
   ]
  }
 ],
 "metadata": {
  "kernelspec": {
   "display_name": "Python 3",
   "language": "python",
   "name": "python3"
  },
  "language_info": {
   "codemirror_mode": {
    "name": "ipython",
    "version": 3
   },
   "file_extension": ".py",
   "mimetype": "text/x-python",
   "name": "python",
   "nbconvert_exporter": "python",
   "pygments_lexer": "ipython3",
   "version": "3.9.5"
  }
 },
 "nbformat": 4,
 "nbformat_minor": 5
}
